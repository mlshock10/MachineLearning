{
 "cells": [
  {
   "cell_type": "markdown",
   "id": "b9974b7a-d1ff-4762-ba8c-886c52f9c8fc",
   "metadata": {},
   "source": [
    "<h1><b>Title</b></h1>\n",
    "\n",
    "<h3>Description of Notebook</h3>"
   ]
  },
  {
   "cell_type": "markdown",
   "id": "31f6c5a2-02f6-48eb-9c62-112bcf7ceeb5",
   "metadata": {},
   "source": [
    "Install / Import Needed Packages"
   ]
  },
  {
   "cell_type": "code",
   "execution_count": null,
   "id": "d71dc014-6675-4836-ae33-ef550b8bbe72",
   "metadata": {},
   "outputs": [],
   "source": [
    "pip install pandas"
   ]
  },
  {
   "cell_type": "code",
   "execution_count": null,
   "id": "2c04d274-e34d-4ba6-aba2-a3fd2848a909",
   "metadata": {},
   "outputs": [],
   "source": [
    "pip install numpy"
   ]
  },
  {
   "cell_type": "code",
   "execution_count": null,
   "id": "b31db5f7-484e-4b2a-8120-bcb81b6dedc8",
   "metadata": {},
   "outputs": [],
   "source": [
    "pip install matplotlib"
   ]
  },
  {
   "cell_type": "code",
   "execution_count": 3,
   "id": "0a62b131-0f73-4c41-b479-8f712580b211",
   "metadata": {},
   "outputs": [],
   "source": [
    "import pandas as pd\n",
    "import numpy as np\n",
    "import matplotlib.pyplot as plt"
   ]
  },
  {
   "cell_type": "markdown",
   "id": "2cb04e12-23c2-4e9e-8ac5-d8568dfa0d25",
   "metadata": {},
   "source": [
    "<h3>Load the Dataset</h3>"
   ]
  },
  {
   "cell_type": "code",
   "execution_count": null,
   "id": "f2f09d6c-7a0c-49c4-afb7-e1ec2c82f249",
   "metadata": {},
   "outputs": [],
   "source": [
    "df = pd.read_csv('')"
   ]
  },
  {
   "cell_type": "markdown",
   "id": "3f3e1750-0f6b-46f3-b28e-abe605aac1f0",
   "metadata": {},
   "source": [
    "Show the first five rows"
   ]
  },
  {
   "cell_type": "code",
   "execution_count": null,
   "id": "072861da-3f2f-40f5-87af-56459287c4e7",
   "metadata": {},
   "outputs": [],
   "source": [
    "df.head(5)"
   ]
  },
  {
   "cell_type": "markdown",
   "id": "3cf104d2-0570-4b89-83db-2ebe1b7bd271",
   "metadata": {},
   "source": [
    "<h3>Clean data</h3>"
   ]
  },
  {
   "cell_type": "code",
   "execution_count": null,
   "id": "f40252aa-fced-4a69-af82-2e864a048a1c",
   "metadata": {},
   "outputs": [],
   "source": []
  },
  {
   "cell_type": "markdown",
   "id": "b1722aa7-9079-41ed-979f-252bcadbe2ab",
   "metadata": {},
   "source": [
    "<h3>Find correlations</h3>"
   ]
  },
  {
   "cell_type": "code",
   "execution_count": null,
   "id": "093f71aa-6367-4a42-8ab1-effb6f6402d3",
   "metadata": {},
   "outputs": [],
   "source": [
    "correlations = df.corr()\n",
    "important_features = correlations['diagnosis'].sort_values(ascending=False)\n",
    "\n",
    "print('Descending Correlation to Diagnosis:')\n",
    "print()\n",
    "print(important_features)"
   ]
  },
  {
   "cell_type": "markdown",
   "id": "ec5bb8de-5ea9-420a-91e6-f9379163654d",
   "metadata": {},
   "source": [
    "<h3>Scatter Plot of Correlation</h3>"
   ]
  },
  {
   "cell_type": "code",
   "execution_count": null,
   "id": "c85d01ca-5af2-4cda-b1a1-1260630ef057",
   "metadata": {},
   "outputs": [],
   "source": [
    "plt.scatter()\n",
    "plt.title('')\n",
    "plt.xlabel('')\n",
    "plt.ylabel('')"
   ]
  },
  {
   "cell_type": "markdown",
   "id": "42ecfe24-6e21-4ff5-b81c-b4667f30eb1a",
   "metadata": {},
   "source": [
    "<h3>Data formatting</h3>"
   ]
  },
  {
   "cell_type": "code",
   "execution_count": null,
   "id": "30854c5b-e0ea-4619-b2ea-d3886d2113ef",
   "metadata": {},
   "outputs": [],
   "source": [
    "# Top  correlated features of dataset\n",
    "X = df[['']]\n",
    "X = X.to_numpy()\n",
    "\n",
    "# Target Features\n",
    "y = df[['']]\n",
    "y = y.to_numpy()"
   ]
  },
  {
   "cell_type": "markdown",
   "id": "1ade5997-34f8-44b0-b9a6-41ca35247e23",
   "metadata": {},
   "source": [
    "Split into train and test"
   ]
  },
  {
   "cell_type": "code",
   "execution_count": null,
   "id": "601eed83-daf3-43b0-a923-123a01e2d243",
   "metadata": {},
   "outputs": [],
   "source": [
    "# Set test size.. between 0-1\n",
    "test_size = 0.75\n",
    "\n",
    "split_index = int(len(X) * test_size)\n",
    "X_train = X[:split_index]\n",
    "X_test = X[split_index:]\n",
    "\n",
    "y_train = y[:split_index]\n",
    "y_test = y[split_index:]"
   ]
  },
  {
   "cell_type": "markdown",
   "id": "126ffe1b-14de-4cb3-af89-9438af85d78f",
   "metadata": {},
   "source": [
    "<h3>Define Sigmoid</h3>"
   ]
  },
  {
   "cell_type": "code",
   "execution_count": null,
   "id": "6e22f974-697b-45d4-8082-b1ae980300f7",
   "metadata": {},
   "outputs": [],
   "source": [
    "def sigmoid(z):\n",
    "    g = 1/(1+np.exp(-z))\n",
    "    return g"
   ]
  },
  {
   "cell_type": "markdown",
   "id": "3fdbd4b2-613f-4cb1-9e18-84de1a3dac16",
   "metadata": {},
   "source": [
    "<h3>Compute Cost</h3>"
   ]
  },
  {
   "cell_type": "code",
   "execution_count": 7,
   "id": "41cf2856-67d6-4656-a0d2-1b5fe35e7fbc",
   "metadata": {},
   "outputs": [],
   "source": [
    "def compute_cost(X,y,w,b,lambda_=1):\n",
    "    \n",
    "    m,n = X.shape\n",
    "    cost = 0\n",
    "    \n",
    "    for i in range(m):\n",
    "        z_i = np.dot(X[i],w)+b\n",
    "        f_wb_i = sigmoid(z_i)\n",
    "        cost += -y[i]*np.log(f_wb_i)-(1-y[i])*np.log(1-f_wb_i)\n",
    "\n",
    "    cost = cost/m\n",
    "\n",
    "    reg_cost = 0\n",
    "    for j in range(n):\n",
    "        reg_cost += (w[j]**2)\n",
    "    reg_cost = (lambda_/2*m) * reg_cost\n",
    "\n",
    "    total_cost = reg_cost + cost\n",
    "    \n",
    "    return total_cost"
   ]
  },
  {
   "cell_type": "markdown",
   "id": "1ae12136-8d71-4536-b210-7aad8162bdb8",
   "metadata": {},
   "source": [
    "<h3>Test Initial Model Parameters Set to Zero</h3>"
   ]
  },
  {
   "cell_type": "code",
   "execution_count": null,
   "id": "2f66b8db-d34a-481a-88a4-64ff7a8a82c8",
   "metadata": {},
   "outputs": [],
   "source": [
    "# Size of examples and features\n",
    "m,n = X.shape\n",
    "\n",
    "# Set the initial parameters\n",
    "w_initial = np.zeros(n)\n",
    "b_initial = 0.\n",
    "\n",
    "cost = compute_cost(X,y,w_initial,b_initial)\n",
    "cost = float(cost)\n",
    "print('Cost at initial w and b (zeros): {:.3f}'.format(cost))"
   ]
  },
  {
   "cell_type": "markdown",
   "id": "8ea730e8-f5c4-4592-a52e-ec73482717dc",
   "metadata": {},
   "source": [
    "<h3>Test Model With Non-Zeros</h3>"
   ]
  },
  {
   "cell_type": "code",
   "execution_count": null,
   "id": "b82809f3-7b4c-42d0-b4a2-1f083d4aa34a",
   "metadata": {},
   "outputs": [],
   "source": [
    "# Set the initial parameters\n",
    "w_initial = np.array([])\n",
    "b_initial = \n",
    "\n",
    "cost = compute_cost(X,y,w_initial,b_initial)\n",
    "cost = float(cost)\n",
    "print('Cost at initial w and b (zeros): {:.3f}'.format(cost))"
   ]
  },
  {
   "cell_type": "markdown",
   "id": "74b82fe2-b113-4e4a-ae5a-94ffd51f4cc1",
   "metadata": {},
   "source": [
    "<h3>Compute Gradient</h3>"
   ]
  },
  {
   "cell_type": "code",
   "execution_count": null,
   "id": "640bce86-9186-43ea-be96-54f7ac9d1183",
   "metadata": {},
   "outputs": [],
   "source": [
    "def compute_gradient(X,y,w,b,lambda_=1):\n",
    "    # Args: X - Data, y - Target Values, w - slope values, b - intercept value, lambda_ - regularization\n",
    "    \n",
    "    m = X.shape[0]\n",
    "    n = len(w)\n",
    "    \n",
    "    dj_dw = np.zeros(w.shape)\n",
    "    dj_db = 0.\n",
    "\n",
    "    for i in range(m):\n",
    "        err_i = sigmoid(np.dot(X[i],w)+b) - y[i]\n",
    "        for j in range(n):\n",
    "            dj_dw[j] = dj_dw[j] + err_i * X[i,j]\n",
    "        dj_db = dj_db + err_i\n",
    "\n",
    "    dj_dw = dj_dw / m\n",
    "    dj_db = dj_db / m\n",
    "\n",
    "    for j in range(n):\n",
    "        dj_dw[j] = dj_dw[j] + (lambda_/m)* w[j]\n",
    "\n",
    "    return dj_db, dj_dw"
   ]
  },
  {
   "cell_type": "markdown",
   "id": "bf460846-1e1d-47fc-8bce-bc6b35de6eda",
   "metadata": {},
   "source": [
    "<h3>Run Gradient with Zeros</h3>"
   ]
  },
  {
   "cell_type": "code",
   "execution_count": null,
   "id": "faab9355-e770-49c0-bb42-894f5c90eb95",
   "metadata": {},
   "outputs": [],
   "source": [
    "w_initial = np.array([])\n",
    "b_initial = 0\n",
    "\n",
    "dj_db, dj_dw = compute_gradient(X,y,w_initial,b_initial)\n",
    "print('dj_db at initial w and b:', dj_db)\n",
    "print('dj_dw at initial w and b:', dj_dw)"
   ]
  },
  {
   "cell_type": "markdown",
   "id": "0d47ded5-f414-4792-804d-b31d842593cd",
   "metadata": {},
   "source": [
    "<h3>Run Gradient with Non-Zeros</h3>"
   ]
  },
  {
   "cell_type": "code",
   "execution_count": null,
   "id": "b20f4164-c7ab-4754-9940-8b5f5bbc4f7b",
   "metadata": {},
   "outputs": [],
   "source": [
    "w_initial = np.array([])\n",
    "b_initial = \n",
    "\n",
    "dj_db, dj_dw = compute_gradient(X,y,w_initial,b_initial)\n",
    "print('dj_db at initial w and b:', dj_db)\n",
    "print('dj_dw at initial w and b:', dj_dw)"
   ]
  },
  {
   "cell_type": "markdown",
   "id": "1921d714-4eb1-41c6-83e2-e90bc690a4c0",
   "metadata": {},
   "source": [
    "<h3>Define Gradient Descent</h3>"
   ]
  },
  {
   "cell_type": "code",
   "execution_count": null,
   "id": "4af267c7-df1f-4760-a402-d7c6d7c3c423",
   "metadata": {},
   "outputs": [],
   "source": [
    "def gradient_descent(X,y,w_in,b_in,compute_cost,compute_gradient, alpha,num_iters):\n",
    "\n",
    "    m = len(X)\n",
    "\n",
    "    J_hist = []\n",
    "    w_hist = []\n",
    "\n",
    "    for i in range(num_iters):\n",
    "        dj_db, dj_dw = compute_gradient(X,y,w_in,b_in)\n",
    "\n",
    "        w_in = w_in - alpha * dj_dw\n",
    "        b_in = b_in - alpha * dj_db\n",
    "\n",
    "        if i < 100000:\n",
    "            cost = compute_cost(X,y,w_in,b_in)\n",
    "            J_hist.append(cost)\n",
    "\n",
    "        if i% math.ceil(num_iters/10) == 0 or i == (num_iters-1):\n",
    "            w_hist.append(w_in)\n",
    "            print(f\"Iteration {i:4}: Cost {float(J_hist[-1]):8.2f}    \")\n",
    "    return w_in, b_in, J_hist, w_hist"
   ]
  },
  {
   "cell_type": "markdown",
   "id": "fc0c96e0-edd7-4d87-a926-30140cbbbebf",
   "metadata": {},
   "source": [
    "<h3>Run Gradient Descent</h3>"
   ]
  },
  {
   "cell_type": "code",
   "execution_count": null,
   "id": "33041ae5-9024-4f9a-9920-9677b561aae1",
   "metadata": {},
   "outputs": [],
   "source": [
    "w_init = np.array([])\n",
    "b_init = \n",
    "\n",
    "iterations = 1000\n",
    "alpha = 0.000001\n",
    "\n",
    "w,b,J_hist,w_hist = gradient_descent(X_train,y_train,w_init,b_init,compute_cost,compute_gradient,alpha,iterations)\n",
    "\n",
    "fig, (ax1, ax2) = plt.subplots(1, 2, figsize=(13,4))\n",
    "\n",
    "ax1.plot(J_hist)\n",
    "ax1.set_title('Total Cost of Model')\n",
    "ax1.set_xlabel('Iteration')\n",
    "ax1.set_ylabel('Cost')\n",
    "\n",
    "ax2.plot(w_hist)\n",
    "ax2.set_title('Weight Change Over Time')\n",
    "ax2.set_xlabel('Iteration')\n",
    "ax2.set_ylabel('Value')"
   ]
  },
  {
   "cell_type": "markdown",
   "id": "afe3ce4b-2e86-409b-ae7b-2bdcb3680e8b",
   "metadata": {},
   "source": [
    "<h3>Repeat as Needed</h3>"
   ]
  },
  {
   "cell_type": "code",
   "execution_count": null,
   "id": "389e4dd8-8fb7-4172-b221-c9fcf419d7e6",
   "metadata": {},
   "outputs": [],
   "source": [
    "w_init = np.array([])\n",
    "b_init = \n",
    "\n",
    "iterations = 1000\n",
    "alpha = 0.0000001\n",
    "\n",
    "w,b,J_hist,w_hist = gradient_descent(X_train,y_train,w_init,b_init,compute_cost,compute_gradient,alpha,iterations)\n",
    "\n",
    "fig, (ax1, ax2) = plt.subplots(1, 2, figsize=(13,4))\n",
    "\n",
    "ax1.plot(J_hist)\n",
    "ax1.set_title('Total Cost of Model')\n",
    "ax1.set_xlabel('Iteration')\n",
    "ax1.set_ylabel('Cost')\n",
    "\n",
    "ax2.plot(w_hist)\n",
    "ax2.set_title('Weight Change Over Time')\n",
    "ax2.set_xlabel('Iteration')\n",
    "ax2.set_ylabel('Value')\n",
    "\n",
    "plt.show()"
   ]
  },
  {
   "cell_type": "markdown",
   "id": "4454d567-eea3-42b6-93a7-4a5bc05b9fe8",
   "metadata": {},
   "source": [
    "<h3>Compute Accuracy of Model on Test Data</h3>"
   ]
  },
  {
   "cell_type": "code",
   "execution_count": null,
   "id": "7adcdf5a-358b-417d-bd23-73bd5c256473",
   "metadata": {},
   "outputs": [],
   "source": [
    "def predict(X,w,b,threshold):\n",
    "    # Args: X - Data, w - slope weights, b - intercept, threshold - value to set prediction to a 1\n",
    "    \n",
    "    m,n = X.shape\n",
    "    p = np.zeros(m)\n",
    "\n",
    "    for i in range(m):\n",
    "        curPred = sigmoid(np.dot(X[i],w)+b)\n",
    "        if curPred >= threshold:\n",
    "            p[i] = 1\n",
    "        else:\n",
    "            p[i] = 0\n",
    "\n",
    "    return p"
   ]
  },
  {
   "cell_type": "code",
   "execution_count": null,
   "id": "b7463307-5792-4a23-adca-71771eaca1a7",
   "metadata": {},
   "outputs": [],
   "source": [
    "pred = predict(X_test,w,b)\n",
    "\n",
    "print('Train Accuracy: %f'%(np.mean(pred==y_test) * 100))"
   ]
  }
 ],
 "metadata": {
  "kernelspec": {
   "display_name": "Python 3 (ipykernel)",
   "language": "python",
   "name": "python3"
  },
  "language_info": {
   "codemirror_mode": {
    "name": "ipython",
    "version": 3
   },
   "file_extension": ".py",
   "mimetype": "text/x-python",
   "name": "python",
   "nbconvert_exporter": "python",
   "pygments_lexer": "ipython3",
   "version": "3.11.2"
  }
 },
 "nbformat": 4,
 "nbformat_minor": 5
}
