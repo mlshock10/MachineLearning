{
 "cells": [
  {
   "cell_type": "markdown",
   "id": "ef4f26f4-e99f-4a93-ac17-50465e66e0f0",
   "metadata": {},
   "source": [
    "<h1>Breast Cancer Classification Dataset</h1>"
   ]
  },
  {
   "cell_type": "markdown",
   "id": "29e8483e-89a6-407d-bcc0-937145ec8c6d",
   "metadata": {},
   "source": [
    "<h3>Import Pandas, Numpy and Matplotlib</h3>"
   ]
  },
  {
   "cell_type": "code",
   "execution_count": 470,
   "id": "c9ec4882-3916-4b52-9eda-219c2b96bde0",
   "metadata": {},
   "outputs": [],
   "source": [
    "import pandas as pd\n",
    "import numpy as np\n",
    "import matplotlib.pyplot as plt\n",
    "import math"
   ]
  },
  {
   "cell_type": "markdown",
   "id": "ac6257c1-f9cc-4544-8f36-aad5c993c372",
   "metadata": {},
   "source": [
    "<h3>Load Dataset</h3>"
   ]
  },
  {
   "cell_type": "code",
   "execution_count": 471,
   "id": "8a055923-77b8-4afe-9810-8ba457857714",
   "metadata": {},
   "outputs": [],
   "source": [
    "df = pd.read_csv('breast-cancer.csv')"
   ]
  },
  {
   "cell_type": "markdown",
   "id": "1a475cf6-bc06-49a1-8dff-259a41ba4184",
   "metadata": {},
   "source": [
    "<h3>Show the First 5 Rows</h3>"
   ]
  },
  {
   "cell_type": "code",
   "execution_count": 472,
   "id": "72829acb-30ee-4a54-b671-446e888271f1",
   "metadata": {
    "scrolled": true
   },
   "outputs": [
    {
     "data": {
      "text/html": [
       "<div>\n",
       "<style scoped>\n",
       "    .dataframe tbody tr th:only-of-type {\n",
       "        vertical-align: middle;\n",
       "    }\n",
       "\n",
       "    .dataframe tbody tr th {\n",
       "        vertical-align: top;\n",
       "    }\n",
       "\n",
       "    .dataframe thead th {\n",
       "        text-align: right;\n",
       "    }\n",
       "</style>\n",
       "<table border=\"1\" class=\"dataframe\">\n",
       "  <thead>\n",
       "    <tr style=\"text-align: right;\">\n",
       "      <th></th>\n",
       "      <th>id</th>\n",
       "      <th>diagnosis</th>\n",
       "      <th>radius_mean</th>\n",
       "      <th>texture_mean</th>\n",
       "      <th>perimeter_mean</th>\n",
       "      <th>area_mean</th>\n",
       "      <th>smoothness_mean</th>\n",
       "      <th>compactness_mean</th>\n",
       "      <th>concavity_mean</th>\n",
       "      <th>concave points_mean</th>\n",
       "      <th>...</th>\n",
       "      <th>radius_worst</th>\n",
       "      <th>texture_worst</th>\n",
       "      <th>perimeter_worst</th>\n",
       "      <th>area_worst</th>\n",
       "      <th>smoothness_worst</th>\n",
       "      <th>compactness_worst</th>\n",
       "      <th>concavity_worst</th>\n",
       "      <th>concave points_worst</th>\n",
       "      <th>symmetry_worst</th>\n",
       "      <th>fractal_dimension_worst</th>\n",
       "    </tr>\n",
       "  </thead>\n",
       "  <tbody>\n",
       "    <tr>\n",
       "      <th>0</th>\n",
       "      <td>842302</td>\n",
       "      <td>M</td>\n",
       "      <td>17.99</td>\n",
       "      <td>10.38</td>\n",
       "      <td>122.80</td>\n",
       "      <td>1001.0</td>\n",
       "      <td>0.11840</td>\n",
       "      <td>0.27760</td>\n",
       "      <td>0.3001</td>\n",
       "      <td>0.14710</td>\n",
       "      <td>...</td>\n",
       "      <td>25.38</td>\n",
       "      <td>17.33</td>\n",
       "      <td>184.60</td>\n",
       "      <td>2019.0</td>\n",
       "      <td>0.1622</td>\n",
       "      <td>0.6656</td>\n",
       "      <td>0.7119</td>\n",
       "      <td>0.2654</td>\n",
       "      <td>0.4601</td>\n",
       "      <td>0.11890</td>\n",
       "    </tr>\n",
       "    <tr>\n",
       "      <th>1</th>\n",
       "      <td>842517</td>\n",
       "      <td>M</td>\n",
       "      <td>20.57</td>\n",
       "      <td>17.77</td>\n",
       "      <td>132.90</td>\n",
       "      <td>1326.0</td>\n",
       "      <td>0.08474</td>\n",
       "      <td>0.07864</td>\n",
       "      <td>0.0869</td>\n",
       "      <td>0.07017</td>\n",
       "      <td>...</td>\n",
       "      <td>24.99</td>\n",
       "      <td>23.41</td>\n",
       "      <td>158.80</td>\n",
       "      <td>1956.0</td>\n",
       "      <td>0.1238</td>\n",
       "      <td>0.1866</td>\n",
       "      <td>0.2416</td>\n",
       "      <td>0.1860</td>\n",
       "      <td>0.2750</td>\n",
       "      <td>0.08902</td>\n",
       "    </tr>\n",
       "    <tr>\n",
       "      <th>2</th>\n",
       "      <td>84300903</td>\n",
       "      <td>M</td>\n",
       "      <td>19.69</td>\n",
       "      <td>21.25</td>\n",
       "      <td>130.00</td>\n",
       "      <td>1203.0</td>\n",
       "      <td>0.10960</td>\n",
       "      <td>0.15990</td>\n",
       "      <td>0.1974</td>\n",
       "      <td>0.12790</td>\n",
       "      <td>...</td>\n",
       "      <td>23.57</td>\n",
       "      <td>25.53</td>\n",
       "      <td>152.50</td>\n",
       "      <td>1709.0</td>\n",
       "      <td>0.1444</td>\n",
       "      <td>0.4245</td>\n",
       "      <td>0.4504</td>\n",
       "      <td>0.2430</td>\n",
       "      <td>0.3613</td>\n",
       "      <td>0.08758</td>\n",
       "    </tr>\n",
       "    <tr>\n",
       "      <th>3</th>\n",
       "      <td>84348301</td>\n",
       "      <td>M</td>\n",
       "      <td>11.42</td>\n",
       "      <td>20.38</td>\n",
       "      <td>77.58</td>\n",
       "      <td>386.1</td>\n",
       "      <td>0.14250</td>\n",
       "      <td>0.28390</td>\n",
       "      <td>0.2414</td>\n",
       "      <td>0.10520</td>\n",
       "      <td>...</td>\n",
       "      <td>14.91</td>\n",
       "      <td>26.50</td>\n",
       "      <td>98.87</td>\n",
       "      <td>567.7</td>\n",
       "      <td>0.2098</td>\n",
       "      <td>0.8663</td>\n",
       "      <td>0.6869</td>\n",
       "      <td>0.2575</td>\n",
       "      <td>0.6638</td>\n",
       "      <td>0.17300</td>\n",
       "    </tr>\n",
       "    <tr>\n",
       "      <th>4</th>\n",
       "      <td>84358402</td>\n",
       "      <td>M</td>\n",
       "      <td>20.29</td>\n",
       "      <td>14.34</td>\n",
       "      <td>135.10</td>\n",
       "      <td>1297.0</td>\n",
       "      <td>0.10030</td>\n",
       "      <td>0.13280</td>\n",
       "      <td>0.1980</td>\n",
       "      <td>0.10430</td>\n",
       "      <td>...</td>\n",
       "      <td>22.54</td>\n",
       "      <td>16.67</td>\n",
       "      <td>152.20</td>\n",
       "      <td>1575.0</td>\n",
       "      <td>0.1374</td>\n",
       "      <td>0.2050</td>\n",
       "      <td>0.4000</td>\n",
       "      <td>0.1625</td>\n",
       "      <td>0.2364</td>\n",
       "      <td>0.07678</td>\n",
       "    </tr>\n",
       "  </tbody>\n",
       "</table>\n",
       "<p>5 rows × 32 columns</p>\n",
       "</div>"
      ],
      "text/plain": [
       "         id diagnosis  radius_mean  texture_mean  perimeter_mean  area_mean  \\\n",
       "0    842302         M        17.99         10.38          122.80     1001.0   \n",
       "1    842517         M        20.57         17.77          132.90     1326.0   \n",
       "2  84300903         M        19.69         21.25          130.00     1203.0   \n",
       "3  84348301         M        11.42         20.38           77.58      386.1   \n",
       "4  84358402         M        20.29         14.34          135.10     1297.0   \n",
       "\n",
       "   smoothness_mean  compactness_mean  concavity_mean  concave points_mean  \\\n",
       "0          0.11840           0.27760          0.3001              0.14710   \n",
       "1          0.08474           0.07864          0.0869              0.07017   \n",
       "2          0.10960           0.15990          0.1974              0.12790   \n",
       "3          0.14250           0.28390          0.2414              0.10520   \n",
       "4          0.10030           0.13280          0.1980              0.10430   \n",
       "\n",
       "   ...  radius_worst  texture_worst  perimeter_worst  area_worst  \\\n",
       "0  ...         25.38          17.33           184.60      2019.0   \n",
       "1  ...         24.99          23.41           158.80      1956.0   \n",
       "2  ...         23.57          25.53           152.50      1709.0   \n",
       "3  ...         14.91          26.50            98.87       567.7   \n",
       "4  ...         22.54          16.67           152.20      1575.0   \n",
       "\n",
       "   smoothness_worst  compactness_worst  concavity_worst  concave points_worst  \\\n",
       "0            0.1622             0.6656           0.7119                0.2654   \n",
       "1            0.1238             0.1866           0.2416                0.1860   \n",
       "2            0.1444             0.4245           0.4504                0.2430   \n",
       "3            0.2098             0.8663           0.6869                0.2575   \n",
       "4            0.1374             0.2050           0.4000                0.1625   \n",
       "\n",
       "   symmetry_worst  fractal_dimension_worst  \n",
       "0          0.4601                  0.11890  \n",
       "1          0.2750                  0.08902  \n",
       "2          0.3613                  0.08758  \n",
       "3          0.6638                  0.17300  \n",
       "4          0.2364                  0.07678  \n",
       "\n",
       "[5 rows x 32 columns]"
      ]
     },
     "execution_count": 472,
     "metadata": {},
     "output_type": "execute_result"
    }
   ],
   "source": [
    "df.head(5)"
   ]
  },
  {
   "cell_type": "code",
   "execution_count": 473,
   "id": "8297808e-8699-4c8e-a5a8-f7178d9058f2",
   "metadata": {},
   "outputs": [],
   "source": [
    "# Replace M and B to 1 and 0\n",
    "df['diagnosis'] = df['diagnosis'].map({'M':1,'B':0})"
   ]
  },
  {
   "cell_type": "code",
   "execution_count": 474,
   "id": "35476833-5aaf-42c1-b4a6-8acf332b9a5f",
   "metadata": {},
   "outputs": [
    {
     "name": "stdout",
     "output_type": "stream",
     "text": [
      "Highest Correlation to Diagnosis:\n",
      "\n",
      "diagnosis                  1.000000\n",
      "concave points_worst       0.793566\n",
      "perimeter_worst            0.782914\n",
      "concave points_mean        0.776614\n",
      "radius_worst               0.776454\n",
      "perimeter_mean             0.742636\n",
      "area_worst                 0.733825\n",
      "radius_mean                0.730029\n",
      "area_mean                  0.708984\n",
      "concavity_mean             0.696360\n",
      "concavity_worst            0.659610\n",
      "compactness_mean           0.596534\n",
      "compactness_worst          0.590998\n",
      "radius_se                  0.567134\n",
      "perimeter_se               0.556141\n",
      "area_se                    0.548236\n",
      "texture_worst              0.456903\n",
      "smoothness_worst           0.421465\n",
      "symmetry_worst             0.416294\n",
      "texture_mean               0.415185\n",
      "concave points_se          0.408042\n",
      "smoothness_mean            0.358560\n",
      "symmetry_mean              0.330499\n",
      "fractal_dimension_worst    0.323872\n",
      "compactness_se             0.292999\n",
      "concavity_se               0.253730\n",
      "fractal_dimension_se       0.077972\n",
      "id                         0.039769\n",
      "symmetry_se               -0.006522\n",
      "texture_se                -0.008303\n",
      "fractal_dimension_mean    -0.012838\n",
      "smoothness_se             -0.067016\n",
      "Name: diagnosis, dtype: float64\n"
     ]
    }
   ],
   "source": [
    "# Get the correlations of the data to the diagnosis\n",
    "correlations = df.corr()\n",
    "important_features = correlations['diagnosis'].sort_values(ascending=False)\n",
    "\n",
    "print('Highest Correlation to Diagnosis:')\n",
    "print()\n",
    "print(important_features)"
   ]
  },
  {
   "cell_type": "markdown",
   "id": "9cd57f53-54ad-4165-8e96-f085dbf0a5eb",
   "metadata": {},
   "source": [
    "<h3>Separate Data into Data and Target Values</h3>"
   ]
  },
  {
   "cell_type": "code",
   "execution_count": 475,
   "id": "b6fff279-4932-4fba-8a76-417dbb5912e4",
   "metadata": {},
   "outputs": [],
   "source": [
    "# Top 2 correlated features of dataset\n",
    "X = df[['concave points_worst', 'perimeter_worst','concave points_mean','radius_worst','perimeter_mean','area_worst','radius_mean','area_mean']]\n",
    "X = X.to_numpy()\n",
    "\n",
    "# Target Features\n",
    "y = df[['diagnosis']]\n",
    "y = y.to_numpy()"
   ]
  },
  {
   "cell_type": "markdown",
   "id": "26785c6e-c59c-4cb5-ade4-21021be856f9",
   "metadata": {},
   "source": [
    "**Split Train and Test Datasets**"
   ]
  },
  {
   "cell_type": "code",
   "execution_count": 476,
   "id": "0a2132a6-6409-45f8-99ab-e88e9c6586f9",
   "metadata": {},
   "outputs": [],
   "source": [
    "split_index = int(len(X) * 0.75)\n",
    "X_train = X[:split_index]\n",
    "X_test = X[split_index:]\n",
    "\n",
    "y_train = y[:split_index]\n",
    "y_test = y[split_index:]"
   ]
  },
  {
   "cell_type": "markdown",
   "id": "351feef4-d53c-4208-b543-4e3d7ae09ce6",
   "metadata": {},
   "source": [
    "<h3>Define Sigmoid</h3>"
   ]
  },
  {
   "cell_type": "code",
   "execution_count": 477,
   "id": "4332cedb-d7b4-4eac-824d-d32ec478c9b3",
   "metadata": {},
   "outputs": [],
   "source": [
    "def sigmoid(z):\n",
    "    g = 1/(1+np.exp(-z))\n",
    "    return g"
   ]
  },
  {
   "cell_type": "markdown",
   "id": "7a5d2d38-9ced-4047-b83b-1a7462b7760a",
   "metadata": {},
   "source": [
    "<h3>Compute Cost</h3>"
   ]
  },
  {
   "cell_type": "code",
   "execution_count": 478,
   "id": "d7e00e39-3e74-4b3d-b385-386b95fd4f26",
   "metadata": {},
   "outputs": [],
   "source": [
    "def compute_cost(X,y,w,b,lambda_=1):\n",
    "    \n",
    "    m,n = X.shape\n",
    "    cost = 0\n",
    "    \n",
    "    for i in range(m):\n",
    "        z_i = np.dot(X[i],w)+b\n",
    "        f_wb_i = sigmoid(z_i)\n",
    "        cost += -y[i]*np.log(f_wb_i)-(1-y[i])*np.log(1-f_wb_i)\n",
    "\n",
    "    cost = cost/m\n",
    "\n",
    "    reg_cost = 0\n",
    "    for j in range(n):\n",
    "        reg_cost += (w[j]**2)\n",
    "    reg_cost = (lambda_/2*m) * reg_cost\n",
    "\n",
    "    total_cost = reg_cost + cost\n",
    "    \n",
    "    return total_cost"
   ]
  },
  {
   "cell_type": "markdown",
   "id": "c28add12-3ddf-4168-ac4d-a926c291e556",
   "metadata": {},
   "source": [
    "<h3>Set Inital Model Parameters and Run for Cost</h3>"
   ]
  },
  {
   "cell_type": "code",
   "execution_count": 479,
   "id": "5d9deda3-311e-4bfc-bcd9-9063436c2c57",
   "metadata": {},
   "outputs": [
    {
     "name": "stdout",
     "output_type": "stream",
     "text": [
      "Cost at initial w and b (zeros): 0.693\n"
     ]
    },
    {
     "name": "stderr",
     "output_type": "stream",
     "text": [
      "/tmp/ipykernel_3415/3434075480.py:9: DeprecationWarning: Conversion of an array with ndim > 0 to a scalar is deprecated, and will error in future. Ensure you extract a single element from your array before performing this operation. (Deprecated NumPy 1.25.)\n",
      "  cost = float(cost)\n"
     ]
    }
   ],
   "source": [
    "# Size of examples and features\n",
    "m,n = X.shape\n",
    "\n",
    "# Set the initial parameters\n",
    "w_initial = np.zeros(n)\n",
    "b_initial = 0.\n",
    "\n",
    "cost = compute_cost(X,y,w_initial,b_initial)\n",
    "cost = float(cost)\n",
    "print('Cost at initial w and b (zeros): {:.3f}'.format(cost))"
   ]
  },
  {
   "cell_type": "markdown",
   "id": "41ed9897-6ecd-44dc-8bec-fdca18df2126",
   "metadata": {},
   "source": [
    "<h3>Test with Non-Zero</h3>"
   ]
  },
  {
   "cell_type": "code",
   "execution_count": 480,
   "id": "7df7dad5-8b62-43e8-896b-b897e9ab69bf",
   "metadata": {},
   "outputs": [
    {
     "name": "stdout",
     "output_type": "stream",
     "text": [
      "Cost at initial w and b (zeros): nan\n"
     ]
    },
    {
     "name": "stderr",
     "output_type": "stream",
     "text": [
      "/tmp/ipykernel_3415/1206475258.py:9: RuntimeWarning: divide by zero encountered in log\n",
      "  cost += -y[i]*np.log(f_wb_i)-(1-y[i])*np.log(1-f_wb_i)\n",
      "/tmp/ipykernel_3415/1206475258.py:9: RuntimeWarning: invalid value encountered in multiply\n",
      "  cost += -y[i]*np.log(f_wb_i)-(1-y[i])*np.log(1-f_wb_i)\n",
      "/tmp/ipykernel_3415/907747019.py:6: DeprecationWarning: Conversion of an array with ndim > 0 to a scalar is deprecated, and will error in future. Ensure you extract a single element from your array before performing this operation. (Deprecated NumPy 1.25.)\n",
      "  cost = float(cost)\n"
     ]
    }
   ],
   "source": [
    "# Set the initial parameters\n",
    "w_initial = np.array([0.01, 0.01,0.01,0.01,0.01,0.01,0.01,0.01])\n",
    "b_initial = -8.\n",
    "\n",
    "cost = compute_cost(X,y,w_initial,b_initial)\n",
    "cost = float(cost)\n",
    "print('Cost at initial w and b (zeros): {:.3f}'.format(cost))"
   ]
  },
  {
   "cell_type": "markdown",
   "id": "329bae6f-ff65-4fb7-9137-7d279d4f3b7a",
   "metadata": {},
   "source": [
    "<h3>Compute Gradient</h3>"
   ]
  },
  {
   "cell_type": "code",
   "execution_count": 481,
   "id": "33723340-9c4a-4719-9657-99258d682585",
   "metadata": {},
   "outputs": [],
   "source": [
    "def compute_gradient(X,y,w,b,lambda_=1):\n",
    "    \n",
    "    m,n = X.shape\n",
    "    \n",
    "    dj_dw = np.zeros(w.shape)\n",
    "    dj_db = 0.\n",
    "\n",
    "    for i in range(m):\n",
    "        err_i = sigmoid(np.dot(X[i],w)+b) - y[i]\n",
    "        for j in range(n):\n",
    "            dj_dw[j] = dj_dw[j] + err_i * X[i,j]\n",
    "        dj_db = dj_db + err_i\n",
    "\n",
    "    dj_dw = dj_dw / m\n",
    "    dj_db = dj_db / m\n",
    "\n",
    "    for j in range(n):\n",
    "        dj_dw[j] = dj_dw[j] + (lambda_/m)* w[j]\n",
    "\n",
    "    return dj_db, dj_dw"
   ]
  },
  {
   "cell_type": "markdown",
   "id": "a1c29f51-435c-424b-b0f0-c6025b46b346",
   "metadata": {},
   "source": [
    "<h3>Run with Zeros</h3>"
   ]
  },
  {
   "cell_type": "code",
   "execution_count": 482,
   "id": "c711681d-4ad0-4794-8d55-2771c0aa2f68",
   "metadata": {},
   "outputs": [
    {
     "name": "stdout",
     "output_type": "stream",
     "text": [
      "dj_db at initial w and b: [0.12741652]\n",
      "dj_dw at initial w and b: [-1.05955000e-02  9.58356766e-01 -8.32404745e-03  2.60113357e-01\n",
      "  3.00128295e+00 -8.96288225e+01  5.57283831e-01 -3.70823374e+01]\n"
     ]
    },
    {
     "name": "stderr",
     "output_type": "stream",
     "text": [
      "/tmp/ipykernel_3415/1533193656.py:11: DeprecationWarning: Conversion of an array with ndim > 0 to a scalar is deprecated, and will error in future. Ensure you extract a single element from your array before performing this operation. (Deprecated NumPy 1.25.)\n",
      "  dj_dw[j] = dj_dw[j] + err_i * X[i,j]\n"
     ]
    }
   ],
   "source": [
    "w_initial = np.array([0,0,0,0,0,0,0,0])\n",
    "b_initial = 0\n",
    "\n",
    "dj_db, dj_dw = compute_gradient(X,y,w_initial,b_initial)\n",
    "print('dj_db at initial w and b:', dj_db)\n",
    "print('dj_dw at initial w and b:', dj_dw)"
   ]
  },
  {
   "cell_type": "markdown",
   "id": "eb9f571b-d7a7-4a13-a465-c975a441b251",
   "metadata": {},
   "source": [
    "<h3>Run with Non-Zeros</h3>"
   ]
  },
  {
   "cell_type": "code",
   "execution_count": 483,
   "id": "06f4b5b9-10ff-446b-9aff-a68558661a5b",
   "metadata": {},
   "outputs": [
    {
     "name": "stdout",
     "output_type": "stream",
     "text": [
      "dj_db at initial w and b: [-0.37258348]\n",
      "dj_dw at initial w and b: [-6.78810369e-02 -5.26722671e+01 -3.27660457e-02 -7.87449912e+00\n",
      " -4.29832162e+01 -5.29920404e+02 -6.50634446e+00 -3.64526907e+02]\n"
     ]
    },
    {
     "name": "stderr",
     "output_type": "stream",
     "text": [
      "/tmp/ipykernel_3415/1533193656.py:11: DeprecationWarning: Conversion of an array with ndim > 0 to a scalar is deprecated, and will error in future. Ensure you extract a single element from your array before performing this operation. (Deprecated NumPy 1.25.)\n",
      "  dj_dw[j] = dj_dw[j] + err_i * X[i,j]\n"
     ]
    }
   ],
   "source": [
    "w_test = np.array([0.01,-0.01,0.01,-0.01,0.01,-0.01,0.01,-0.01])\n",
    "b_test = -24\n",
    "\n",
    "dj_db, dj_dw = compute_gradient(X,y,w_test,b_test)\n",
    "print('dj_db at initial w and b:', dj_db)\n",
    "print('dj_dw at initial w and b:', dj_dw)"
   ]
  },
  {
   "cell_type": "markdown",
   "id": "9dfb6890-b8cf-49c6-a5db-b05a8c16276e",
   "metadata": {},
   "source": [
    "<h3>Run Gradient Descent</h3>"
   ]
  },
  {
   "cell_type": "code",
   "execution_count": 484,
   "id": "2c39181b-20ba-4b2e-bad7-4aa83df28cb2",
   "metadata": {},
   "outputs": [],
   "source": [
    "def gradient_descent(X,y,w_in,b_in,compute_cost,compute_gradient, alpha,num_iters):\n",
    "\n",
    "    m = len(X)\n",
    "\n",
    "    J_hist = []\n",
    "    w_hist = []\n",
    "\n",
    "    for i in range(num_iters):\n",
    "        dj_db, dj_dw = compute_gradient(X,y,w_in,b_in)\n",
    "\n",
    "        w_in = w_in - alpha * dj_dw\n",
    "        b_in = b_in - alpha * dj_db\n",
    "\n",
    "        if i < 100000:\n",
    "            cost = compute_cost(X,y,w_in,b_in)\n",
    "            J_hist.append(cost)\n",
    "\n",
    "        if i% math.ceil(num_iters/10) == 0 or i == (num_iters-1):\n",
    "            w_hist.append(w_in)\n",
    "            print(f\"Iteration {i:4}: Cost {float(J_hist[-1]):8.2f}    \")\n",
    "    return w_in, b_in, J_hist, w_hist"
   ]
  },
  {
   "cell_type": "code",
   "execution_count": 485,
   "id": "110c556f-4b48-49f5-83dd-b9841f569f43",
   "metadata": {},
   "outputs": [
    {
     "name": "stderr",
     "output_type": "stream",
     "text": [
      "/tmp/ipykernel_3415/1533193656.py:11: DeprecationWarning: Conversion of an array with ndim > 0 to a scalar is deprecated, and will error in future. Ensure you extract a single element from your array before performing this operation. (Deprecated NumPy 1.25.)\n",
      "  dj_dw[j] = dj_dw[j] + err_i * X[i,j]\n",
      "/tmp/ipykernel_3415/3639203648.py:20: DeprecationWarning: Conversion of an array with ndim > 0 to a scalar is deprecated, and will error in future. Ensure you extract a single element from your array before performing this operation. (Deprecated NumPy 1.25.)\n",
      "  print(f\"Iteration {i:4}: Cost {float(J_hist[-1]):8.2f}    \")\n"
     ]
    },
    {
     "name": "stdout",
     "output_type": "stream",
     "text": [
      "Iteration    0: Cost     0.80    \n",
      "Iteration  100: Cost     0.61    \n",
      "Iteration  200: Cost     0.59    \n",
      "Iteration  300: Cost     0.58    \n",
      "Iteration  400: Cost     0.57    \n",
      "Iteration  500: Cost     0.56    \n",
      "Iteration  600: Cost     0.55    \n",
      "Iteration  700: Cost     0.55    \n",
      "Iteration  800: Cost     0.54    \n",
      "Iteration  900: Cost     0.53    \n",
      "Iteration  999: Cost     0.52    \n"
     ]
    }
   ],
   "source": [
    "w_init = np.array([0,0.025,0.0,0.01,0.0,0.005,0,-0.005])\n",
    "b_init = -2\n",
    "\n",
    "iterations = 1000\n",
    "alpha = 0.000001\n",
    "\n",
    "w,b,J_hist,w_hist = gradient_descent(X_train,y_train,w_init,b_init,compute_cost,compute_gradient,alpha,iterations)"
   ]
  },
  {
   "cell_type": "markdown",
   "id": "dc4c6e10-fd7a-40a6-a949-28b95dec3089",
   "metadata": {},
   "source": [
    "<h3>Final Model Parameters </h3>"
   ]
  },
  {
   "cell_type": "code",
   "execution_count": 486,
   "id": "e0d0379d-f5b7-499c-8a08-ca0fff40398b",
   "metadata": {},
   "outputs": [
    {
     "name": "stdout",
     "output_type": "stream",
     "text": [
      "Final model parameters of w (based on train data): [ 1.92169559e-06  2.00960511e-02  3.11835987e-06  9.18905615e-03\n",
      " -4.89795518e-03  7.59266225e-03 -8.07977479e-04 -9.53658361e-03]\n",
      "Final model parameters of b (based on train data): [-2.00010413]\n"
     ]
    }
   ],
   "source": [
    "print('Final model parameters of w (based on train data):', w)\n",
    "print('Final model parameters of b (based on train data):', b)"
   ]
  },
  {
   "cell_type": "markdown",
   "id": "02c39c9f-078f-4d53-b243-ef7e00f6a31e",
   "metadata": {},
   "source": [
    "<h3>Plot of Cost and Weights Over Iterations</h3>"
   ]
  },
  {
   "cell_type": "code",
   "execution_count": 487,
   "id": "743fff93-8950-44d5-9dc9-461ea467b596",
   "metadata": {},
   "outputs": [
    {
     "data": {
      "image/png": "[encoded data removed]",
      "text/plain": [
       "<Figure size 640x480 with 1 Axes>"
      ]
     },
     "metadata": {},
     "output_type": "display_data"
    }
   ],
   "source": [
    "plt.plot(J_hist)\n",
    "plt.title('Histort of Cost Over Number of Iterations')\n",
    "plt.xlabel('Iteration')\n",
    "plt.ylabel('Cost')\n",
    "plt.show()"
   ]
  },
  {
   "cell_type": "code",
   "execution_count": 488,
   "id": "251a5b4b-b158-4a0e-adef-e78cea0f4a3d",
   "metadata": {},
   "outputs": [
    {
     "data": {
      "text/plain": [
       "<matplotlib.legend.Legend at 0x7f2583fcb910>"
      ]
     },
     "execution_count": 488,
     "metadata": {},
     "output_type": "execute_result"
    },
    {
     "data": {
      "image/png": "[encoded data removed]",
      "text/plain": [
       "<Figure size 640x480 with 1 Axes>"
      ]
     },
     "metadata": {},
     "output_type": "display_data"
    }
   ],
   "source": [
    "plt.plot(w_hist)\n",
    "plt.title('History of Weights Over Iterations')\n",
    "plt.xlabel('Iteration')\n",
    "plt.ylabel('Weight of Coefficients')\n",
    "plt.legend(['w1','w2','w3','w4','w5','w6','w7','w8'])"
   ]
  },
  {
   "cell_type": "markdown",
   "id": "6349ee68-2dd2-4fe4-905f-4e925c06e35b",
   "metadata": {},
   "source": [
    "<h3>Test on Training Data</h3>"
   ]
  },
  {
   "cell_type": "markdown",
   "id": "2b674bc6-feec-4847-baf8-c38d68b3bd43",
   "metadata": {},
   "source": [
    "**Define Predict Function**"
   ]
  },
  {
   "cell_type": "code",
   "execution_count": 489,
   "id": "1baf8ec3-b5cb-4d88-b34e-3e8636506ebd",
   "metadata": {},
   "outputs": [],
   "source": [
    "def predict(X,w,b):\n",
    "    \n",
    "    m,n = X.shape\n",
    "    p = np.zeros(m)\n",
    "\n",
    "    for i in range(m):\n",
    "        curPred = sigmoid(np.dot(X[i],w)+b)\n",
    "        if curPred >= 0.8:\n",
    "            p[i] = 1\n",
    "        else:\n",
    "            p[i] = 0\n",
    "\n",
    "    return p"
   ]
  },
  {
   "cell_type": "markdown",
   "id": "1819d4e3-7155-428b-8b15-488f58225777",
   "metadata": {},
   "source": [
    "<h3>Compare to Test Data</h3>"
   ]
  },
  {
   "cell_type": "code",
   "execution_count": 490,
   "id": "f2cd9aee-bbb2-4cfc-94a6-c2fe01fd807f",
   "metadata": {},
   "outputs": [
    {
     "name": "stdout",
     "output_type": "stream",
     "text": [
      "Train Accuracy: 68.741748\n"
     ]
    }
   ],
   "source": [
    "pred = predict(X_test,w,b)\n",
    "\n",
    "print('Train Accuracy: %f'%(np.mean(pred==y_test) * 100))"
   ]
  },
  {
   "cell_type": "code",
   "execution_count": null,
   "id": "70efb581-9ec4-4658-ae80-ad25657ac783",
   "metadata": {},
   "outputs": [],
   "source": []
  }
 ],
 "metadata": {
  "kernelspec": {
   "display_name": "Python 3 (ipykernel)",
   "language": "python",
   "name": "python3"
  },
  "language_info": {
   "codemirror_mode": {
    "name": "ipython",
    "version": 3
   },
   "file_extension": ".py",
   "mimetype": "text/x-python",
   "name": "python",
   "nbconvert_exporter": "python",
   "pygments_lexer": "ipython3",
   "version": "3.11.2"
  }
 },
 "nbformat": 4,
 "nbformat_minor": 5
}
